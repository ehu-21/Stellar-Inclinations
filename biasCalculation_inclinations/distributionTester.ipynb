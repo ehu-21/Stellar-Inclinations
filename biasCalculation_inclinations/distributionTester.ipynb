{
 "cells": [
  {
   "cell_type": "code",
   "execution_count": 16,
   "metadata": {},
   "outputs": [
    {
     "name": "stdout",
     "output_type": "stream",
     "text": [
      "0.3444951698634502\n"
     ]
    },
    {
     "data": {
      "image/png": "[encoded data removed]",
      "text/plain": [
       "<Figure size 432x288 with 1 Axes>"
      ]
     },
     "metadata": {},
     "output_type": "display_data"
    },
    {
     "data": {
      "image/png": "[encoded data removed]",
      "text/plain": [
       "<Figure size 432x288 with 1 Axes>"
      ]
     },
     "metadata": {},
     "output_type": "display_data"
    }
   ],
   "source": [
    "#that'll allow you to create fake pop of biased cosI's\n",
    "#run it through code to create fake observed population\n",
    "#compare to real population using KS test\n",
    "#make grid varying c from -3 to 3 in 0.1 steps and record KS pvalue each time\n",
    "#make plot of these values v c\n",
    "\n",
    "#QUESTIONS/VERIFY: do I create a fake population for each value of c\n",
    "import matplotlib.pyplot as plt\n",
    "import numpy as np\n",
    "from numpy import genfromtxt\n",
    "%matplotlib inline\n",
    "plt.style.use('seaborn-whitegrid')\n",
    "from sklearn.linear_model import LinearRegression\n",
    "from mlxtend.plotting import plot_linear_regression\n",
    "import csv\n",
    "import pandas\n",
    "import statistics\n",
    "import random\n",
    "import math\n",
    "from scipy.stats import ks_2samp\n",
    "from scipy.stats import arcsine\n",
    "\n",
    "#generate fake truths\n",
    "# generate observed values\n",
    "data = genfromtxt('starsData.csv',delimiter=',',dtype='float')\n",
    "#cols: vsini, e_vsini, prot, e_prot, radius, e_r\n",
    "#e_prot of 0 means no error given\n",
    "rows,cols=data.shape\n",
    "\n",
    "RSun = 695700\n",
    "\n",
    "\n",
    "\n",
    "IsummaryMedian = []\n",
    "IsummaryMean = []\n",
    "\n",
    "runMonte(data,IsummaryMedian,IsummaryMean)\n",
    "with open(\"distribution.txt\", 'w') as f:\n",
    "    for num in IsummaryMedian:\n",
    "        f.write(str(num)+'\\n')\n",
    "\n",
    "pValue = KSTest()\n",
    "print(pValue)\n",
    "\n",
    "plt.hist(IsummaryMedian, bins = 15)\n",
    "plt.title('distribution i')\n",
    "plt.show()\n",
    "\n",
    "i_all = fileToList('i_all.txt')\n",
    "plt.hist(i_all, bins = 15)\n",
    "plt.title('i_all')\n",
    "plt.show()\n",
    "\n"
   ]
  },
  {
   "cell_type": "code",
   "execution_count": 1,
   "metadata": {},
   "outputs": [],
   "source": [
    "def runMonte(data,IsummaryMedian,IsummaryMean):\n",
    "    for j in range(0,1000):\n",
    "        #Rtrue = np.random.normal(random.choice(data[:,4]),random.choice(data[:,5]))\n",
    "        #Ptrue = np.random.normal(random.choice(data[:,2]),random.choice(data[:,3]))\n",
    "        index1 = random.randint(0,224)\n",
    "        Rtrue = data[index1,4]\n",
    "        e_Rtrue = data[index1,5]\n",
    "\n",
    "        index2 = random.randint(0,224)\n",
    "        Ptrue = data[index2,2]\n",
    "        e_Ptrue = data[index2,3]\n",
    "        Vtrue = 2*np.pi*Rtrue*RSun/(Ptrue*24*3600)\n",
    "\n",
    "        cosI_random = truncnorm.rvs(0, 1)\n",
    "       # cosI_random = arcsine.rvs(0,1)\n",
    "        \n",
    "        Itrue = np.arccos(cosI_random)\n",
    "\n",
    "        VSINItrue = Vtrue*np.sin(Itrue)\n",
    "\n",
    "        e_VSINIobs = random.choice(data[:,1])\n",
    "        VSINIobs = np.random.normal(VSINItrue,e_VSINIobs)\n",
    "        Robs = np.random.normal(Rtrue,e_Rtrue)\n",
    "        e_Robs = e_Rtrue\n",
    "        Pobs = np.random.normal(Ptrue,e_Ptrue)\n",
    "        e_Pobs = e_Ptrue\n",
    "\n",
    "        Pmonte = np.random.normal(Pobs,e_Pobs,10000)\n",
    "        Rmonte = np.random.normal(Robs,e_Robs,10000)\n",
    "        VSINImonte = np.random.normal(VSINIobs,e_VSINIobs,10000)\n",
    "\n",
    "        iSINImonte = VSINImonte/(2*np.pi*Rmonte*RSun/(Pmonte*24*3600))\n",
    "        SINImonte = []\n",
    "\n",
    "        for num in iSINImonte:\n",
    "            if num>= 0 and num <=1:\n",
    "                SINImonte.append(num)\n",
    "\n",
    "        Imonte = np.arcsin(SINImonte)\n",
    "\n",
    "        for i in range(0,len(Imonte)):\n",
    "            Imonte[i]=math.degrees(Imonte[i])\n",
    "\n",
    "        IsummaryMedian.append(statistics.median(Imonte))\n",
    "        IsummaryMean.append(statistics.mean(Imonte))\n",
    "        #print('done')\n"
   ]
  },
  {
   "cell_type": "code",
   "execution_count": 4,
   "metadata": {},
   "outputs": [],
   "source": [
    "def KSTest():\n",
    "    i_all = fileToList('i_all.txt')\n",
    "    i_modBeta = fileToList('distribution.txt')\n",
    "    result = ks_2samp(i_all,i_modBeta)\n",
    "    return result.pvalue\n",
    "    #need to return pvalue\n"
   ]
  },
  {
   "cell_type": "code",
   "execution_count": 12,
   "metadata": {},
   "outputs": [],
   "source": [
    "def fileToList(name):\n",
    "    my_file = open(name, \"r\")\n",
    "    content = my_file.read()\n",
    "    content_list = content.strip().split(\"\\n\")\n",
    "    my_file.close()\n",
    "    \n",
    "    for i in range(len(content_list)):\n",
    "        content_list[i]=float(content_list[i])\n",
    "    return content_list"
   ]
  },
  {
   "cell_type": "code",
   "execution_count": null,
   "metadata": {},
   "outputs": [],
   "source": []
  }
 ],
 "metadata": {
  "kernelspec": {
   "display_name": "Python 3",
   "language": "python",
   "name": "python3"
  },
  "language_info": {
   "codemirror_mode": {
    "name": "ipython",
    "version": 3
   },
   "file_extension": ".py",
   "mimetype": "text/x-python",
   "name": "python",
   "nbconvert_exporter": "python",
   "pygments_lexer": "ipython3",
   "version": "3.7.6"
  }
 },
 "nbformat": 4,
 "nbformat_minor": 4
}
