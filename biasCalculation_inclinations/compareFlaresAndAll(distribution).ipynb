{
 "cells": [
  {
   "cell_type": "code",
   "execution_count": 11,
   "metadata": {},
   "outputs": [
    {
     "data": {
      "image/png": "[encoded data removed]",
      "text/plain": [
       "<Figure size 432x288 with 1 Axes>"
      ]
     },
     "metadata": {
      "needs_background": "light"
     },
     "output_type": "display_data"
    },
    {
     "data": {
      "image/png": "[encoded data removed]",
      "text/plain": [
       "<Figure size 432x288 with 1 Axes>"
      ]
     },
     "metadata": {
      "needs_background": "light"
     },
     "output_type": "display_data"
    },
    {
     "name": "stdout",
     "output_type": "stream",
     "text": [
      "0.9820217916838787\n",
      "0.95181049631904\n"
     ]
    }
   ],
   "source": [
    "'''\n",
    "uses a KS test to compare the distribution of flare stars' inclinations with that of all stars in Kepler sample\n",
    "- with the limited flare sample, it seems like they're from the same distribution\n",
    "'''\n",
    "\n",
    "from scipy.stats import ks_2samp\n",
    "import numpy as np\n",
    "import matplotlib.pyplot as plt\n",
    "from scipy import stats\n",
    "\n",
    "i_all = fileToList('i_all.txt')\n",
    "i_flares = fileToList('i_flares.txt')\n",
    "i_nonflares = fileToList('i_nonflares.txt')\n",
    "\n",
    "plt.hist(i_flares, bins = 15)\n",
    "plt.xlabel('i_flares')\n",
    "plt.show()\n",
    "plt.hist(i_all,bins = 15)\n",
    "plt.xlabel('i_all')\n",
    "plt.show()\n",
    "\n",
    "result = ks_2samp(i_all,i_flares)\n",
    "print(result.pvalue)\n",
    "\n",
    "result1 = ks_2samp(i_nonflares,i_flares)\n",
    "print(result1.pvalue)"
   ]
  },
  {
   "cell_type": "code",
   "execution_count": 3,
   "metadata": {},
   "outputs": [],
   "source": [
    "def fileToList(name):\n",
    "    my_file = open(name, \"r\")\n",
    "    content = my_file.read()\n",
    "    content_list = content.strip().split(\"\\n\")\n",
    "    my_file.close()\n",
    "    \n",
    "    for i in range(len(content_list)):\n",
    "        content_list[i]=float(content_list[i])\n",
    "    return content_list"
   ]
  },
  {
   "cell_type": "code",
   "execution_count": null,
   "metadata": {},
   "outputs": [],
   "source": []
  }
 ],
 "metadata": {
  "kernelspec": {
   "display_name": "Python 3",
   "language": "python",
   "name": "python3"
  },
  "language_info": {
   "codemirror_mode": {
    "name": "ipython",
    "version": 3
   },
   "file_extension": ".py",
   "mimetype": "text/x-python",
   "name": "python",
   "nbconvert_exporter": "python",
   "pygments_lexer": "ipython3",
   "version": "3.7.6"
  }
 },
 "nbformat": 4,
 "nbformat_minor": 4
}
