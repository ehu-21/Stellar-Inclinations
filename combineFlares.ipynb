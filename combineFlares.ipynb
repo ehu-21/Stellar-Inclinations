{
 "cells": [
  {
   "cell_type": "code",
   "execution_count": 21,
   "metadata": {},
   "outputs": [
    {
     "name": "stdout",
     "output_type": "stream",
     "text": [
      "57\n"
     ]
    }
   ],
   "source": [
    "#save catalogs as csv file and upload to folder\n",
    "import numpy as np\n",
    "import pandas as pd\n",
    "from numpy import genfromtxt\n",
    "\n",
    "np.set_printoptions(suppress=True, formatter={'float_kind':'{:0.0f}'.format})\n",
    "\n",
    "flaresNames = genfromtxt('flares(with prot).csv', delimiter=',',dtype = 'str')\n",
    "vsini = genfromtxt('combinedVPNames.csv', delimiter=',',dtype = 'str')\n",
    "\n",
    "fRows, fCols = flaresNames.shape\n",
    "'''\n",
    "row0: header\n",
    "col0: name\n",
    "'''\n",
    "vRows, vCols = vsini.shape\n",
    "print(vRows)\n",
    "'''\n",
    "row0: header\n",
    "col0: name\n",
    "col1: yes or no flares\n",
    "'''\n",
    "\n",
    "for i in range(1, fRows):\n",
    "    for j in range(1, vRows):\n",
    "        if flaresNames[i,0]==vsini[j,0]:\n",
    "            vsini[j,1]='yes'\n",
    "            #flaresNames[i,1]=vsini[j,1]\n",
    "            #flaresNames[i,2]=vsini[j,2]\n",
    "          \n",
    "## convert array into a dataframe\n",
    "df = pd.DataFrame (vsini)\n",
    "\n",
    "## save to xlsx file\n",
    "filepath = 'result(with prot).xlsx'\n",
    "df.to_excel(filepath, index=False)\n",
    "\n",
    "#with numpy\n",
    "#numpy.savetxt(\"results.csv\", vsini, delimiter=\",\")"
   ]
  }
 ],
 "metadata": {
  "kernelspec": {
   "display_name": "Python 3",
   "language": "python",
   "name": "python3"
  },
  "language_info": {
   "codemirror_mode": {
    "name": "ipython",
    "version": 3
   },
   "file_extension": ".py",
   "mimetype": "text/x-python",
   "name": "python",
   "nbconvert_exporter": "python",
   "pygments_lexer": "ipython3",
   "version": "3.7.6"
  }
 },
 "nbformat": 4,
 "nbformat_minor": 4
}
