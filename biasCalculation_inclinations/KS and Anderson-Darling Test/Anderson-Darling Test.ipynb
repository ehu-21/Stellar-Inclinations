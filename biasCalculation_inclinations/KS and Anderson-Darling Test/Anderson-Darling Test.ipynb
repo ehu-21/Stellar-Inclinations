{
 "cells": [
  {
   "cell_type": "code",
   "execution_count": 10,
   "metadata": {},
   "outputs": [
    {
     "name": "stderr",
     "output_type": "stream",
     "text": [
      "C:\\Users\\ehu-21\\Anaconda3\\lib\\site-packages\\ipykernel_launcher.py:8: UserWarning: p-value floored: true value smaller than 0.001\n",
      "  \n"
     ]
    },
    {
     "data": {
      "text/plain": [
       "Anderson_ksampResult(statistic=25.72302236720874, critical_values=array([0.325, 1.226, 1.961, 2.718, 3.752, 4.592, 6.546]), significance_level=0.001)"
      ]
     },
     "execution_count": 10,
     "metadata": {},
     "output_type": "execute_result"
    }
   ],
   "source": [
    "import scipy.stats as ss\n",
    "import sys\n",
    "\n",
    "i_all = fileToList('i_all.txt')\n",
    "i_isotropic = fileToList('i_isotropic.txt')\n",
    "i_uniform = fileToList('i_uniform.txt')\n",
    "\n",
    "ss.anderson_ksamp([i_all,i_isotropic])\n",
    "    "
   ]
  },
  {
   "cell_type": "code",
   "execution_count": 8,
   "metadata": {},
   "outputs": [
    {
     "name": "stderr",
     "output_type": "stream",
     "text": [
      "C:\\Users\\ehu-21\\Anaconda3\\lib\\site-packages\\ipykernel_launcher.py:1: UserWarning: p-value floored: true value smaller than 0.001\n",
      "  \"\"\"Entry point for launching an IPython kernel.\n"
     ]
    },
    {
     "data": {
      "text/plain": [
       "Anderson_ksampResult(statistic=47.10087805385628, critical_values=array([0.325, 1.226, 1.961, 2.718, 3.752, 4.592, 6.546]), significance_level=0.001)"
      ]
     },
     "execution_count": 8,
     "metadata": {},
     "output_type": "execute_result"
    }
   ],
   "source": [
    "ss.anderson_ksamp([i_all,i_uniform])\n"
   ]
  },
  {
   "cell_type": "code",
   "execution_count": 4,
   "metadata": {},
   "outputs": [],
   "source": [
    "def fileToList(name):\n",
    "    my_file = open(name, \"r\")\n",
    "    content = my_file.read()\n",
    "    content_list = content.strip().split(\"\\n\")\n",
    "    my_file.close()\n",
    "    \n",
    "    for item in content_list:\n",
    "        float(item)\n",
    "    return content_list"
   ]
  },
  {
   "cell_type": "code",
   "execution_count": null,
   "metadata": {},
   "outputs": [],
   "source": []
  }
 ],
 "metadata": {
  "kernelspec": {
   "display_name": "Python 3",
   "language": "python",
   "name": "python3"
  },
  "language_info": {
   "codemirror_mode": {
    "name": "ipython",
    "version": 3
   },
   "file_extension": ".py",
   "mimetype": "text/x-python",
   "name": "python",
   "nbconvert_exporter": "python",
   "pygments_lexer": "ipython3",
   "version": "3.7.6"
  }
 },
 "nbformat": 4,
 "nbformat_minor": 4
}
