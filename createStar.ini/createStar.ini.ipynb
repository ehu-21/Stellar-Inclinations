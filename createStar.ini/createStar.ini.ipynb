{
 "cells": [
  {
   "cell_type": "code",
   "execution_count": 12,
   "metadata": {},
   "outputs": [],
   "source": [
    "'''\n",
    "creates star.ini files\n",
    "- 1 per folder\n",
    "'''\n",
    "import numpy as np\n",
    "import pandas as pd\n",
    "from numpy import genfromtxt\n",
    "import os\n",
    "\n",
    "np.set_printoptions(suppress=True, formatter={'float_kind':'{:0.0f}'.format})\n",
    "\n",
    "data = genfromtxt('NewInput(without blanks).csv', delimiter=',',dtype = 'str')\n",
    "'''\n",
    "row0: header\n",
    "col0: StarName\n",
    "col1: Teff\n",
    "col2: e_Teff\n",
    "col3: logg\n",
    "col4: e_logg\n",
    "col5: FeH\n",
    "col6: e_FeH\n",
    "col7: Kepler Magnitude\n",
    "col8: e_Kepler Magnitude\n",
    "col9: Parallax\n",
    "col10: e_Parallax\n",
    "'''\n",
    "rows, cols = data.shape\n",
    "\n",
    "for i in range(1,rows):\n",
    "    filename = \"C:\\\\Users\\\\ehu-21\\\\EXP2020\\\\createStarIni\\\\Star.ini_Files\\\\\"+data[i,0]+\"\\\\star.ini\"\n",
    "    os.makedirs(os.path.dirname(filename), exist_ok=True)\n",
    "    with open(filename, \"w\") as f:\n",
    "   # with open(\"C:\\\\Users\\\\ehu-21\\\\EXP2020\\\\createStarIni\\\\Star.ini Files\\\\\"+data[i,0]+\"\\\\star.ini\",'w') as f:\n",
    "        f.write(\"Kepler = \"+data[i,7]+\", \"+data[i,8]+\"\\n\")\n",
    "        f.write(\"Teff = \"+data[i,1]+\", \"+data[i,2]+\"\\n\")\n",
    "        f.write(\"feh = \"+data[i,5]+\", \"+data[i,6]+\"\\n\")\n",
    "        f.write(\"logg = \"+data[i,3]+\", \"+data[i,4]+\"\\n\")\n",
    "        f.write(\"parallax = \"+data[i,9]+\", \"+data[i,10]+\"\\n\")\n",
    "\n",
    "    #automatically creates list of directories for star.ini files    \n",
    "        with open('starDirectories.txt','a') as file: \n",
    "            file.write(filename+'\\n')\n",
    "\n",
    "\n",
    "#filename = \"/foo/bar/baz.txt\"\n",
    "#os.makedirs(os.path.dirname(filename), exist_ok=True)\n",
    "#with open(filename, \"w\") as f:\n",
    "   # f.write(\"FOOBAR\")\n",
    "    "
   ]
  },
  {
   "cell_type": "code",
   "execution_count": null,
   "metadata": {},
   "outputs": [],
   "source": []
  }
 ],
 "metadata": {
  "kernelspec": {
   "display_name": "Python 3",
   "language": "python",
   "name": "python3"
  },
  "language_info": {
   "codemirror_mode": {
    "name": "ipython",
    "version": 3
   },
   "file_extension": ".py",
   "mimetype": "text/x-python",
   "name": "python",
   "nbconvert_exporter": "python",
   "pygments_lexer": "ipython3",
   "version": "3.7.6"
  }
 },
 "nbformat": 4,
 "nbformat_minor": 4
}
