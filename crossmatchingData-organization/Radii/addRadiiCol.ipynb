{
 "cells": [
  {
   "cell_type": "code",
   "execution_count": 3,
   "metadata": {},
   "outputs": [
    {
     "name": "stdout",
     "output_type": "stream",
     "text": [
      "186302\n"
     ]
    }
   ],
   "source": [
    "'''\n",
    "combines the radii catalog with vsini and prot catalogs for overlapping stars\n",
    "- similar to combineFlares\n",
    "'''\n",
    "import numpy as np\n",
    "import pandas as pd\n",
    "from numpy import genfromtxt\n",
    "\n",
    "np.set_printoptions(suppress=True, formatter={'float_kind':'{:0.0f}'.format})\n",
    "\n",
    "stars = genfromtxt('starList.csv', delimiter=',',dtype = 'str')\n",
    "radii = genfromtxt('radiiValues.csv', delimiter=',',dtype = 'str')\n",
    "\n",
    "sRows, sCols = stars.shape\n",
    "'''\n",
    "row0: header\n",
    "col0: name\n",
    "col1: radius\n",
    "col2: e1_r\n",
    "col3: e2_r\n",
    "'''\n",
    "rRows, rCols = radii.shape\n",
    "print(rRows)\n",
    "'''\n",
    "row0: header\n",
    "col0: name\n",
    "col1: radius\n",
    "col2: e1_r\n",
    "col3: e2_r\n",
    "'''\n",
    "\n",
    "for i in range(1, sRows):\n",
    "    for j in range(1, rRows):\n",
    "        if stars[i,0]==radii[j,0]:\n",
    "            stars[i,1]=radii[j,1]\n",
    "            stars[i,2]=radii[j,2]\n",
    "            stars[i,3]=radii[j,3]            \n",
    "        \n",
    "## convert array into a dataframe\n",
    "df = pd.DataFrame (stars)\n",
    "\n",
    "## save to xlsx file\n",
    "filepath = 'result.xlsx'\n",
    "df.to_excel(filepath, index=False)\n",
    "\n",
    "#with numpy\n",
    "#numpy.savetxt(\"results.csv\", vsini, delimiter=\",\")"
   ]
  }
 ],
 "metadata": {
  "kernelspec": {
   "display_name": "Python 3",
   "language": "python",
   "name": "python3"
  },
  "language_info": {
   "codemirror_mode": {
    "name": "ipython",
    "version": 3
   },
   "file_extension": ".py",
   "mimetype": "text/x-python",
   "name": "python",
   "nbconvert_exporter": "python",
   "pygments_lexer": "ipython3",
   "version": "3.7.6"
  }
 },
 "nbformat": 4,
 "nbformat_minor": 4
}
