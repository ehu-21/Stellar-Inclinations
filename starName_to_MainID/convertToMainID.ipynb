{
 "cells": [
  {
   "cell_type": "code",
   "execution_count": 2,
   "metadata": {},
   "outputs": [
    {
     "name": "stdout",
     "output_type": "stream",
     "text": [
      "done\n"
     ]
    }
   ],
   "source": [
    "'''\n",
    "- import the stars' name list into data.txt and run this code to get the Main ID for each star (exported into mainID.txt)\n",
    "- stars which don't have a mainID on Simbad will have a 'CHECK' in front of their original ID in the final .txt file\n",
    "- might want to run this twice (sometimes it misses a few in the first run; not sure why)\n",
    "'''\n",
    "from astroquery.simbad import Simbad\n",
    "#from astropy.table import Table, Column\n",
    "#from tabulate import tabulate\n",
    "import numpy as np\n",
    "arr = []\n",
    "customSimbad = Simbad()\n",
    "'''\n",
    "- use this to remove fields\n",
    "- only need to run it once and the new table format will save\n",
    "Simbad.remove_votable_fields('coordinates')\n",
    "print(Simbad.get_votable_fields())\n",
    "'''\n",
    "original = open('data.txt','r')\n",
    "\n",
    "starList = original.readlines()\n",
    "for name in starList:\n",
    "    try:\n",
    "        table = Simbad.query_object(name)\n",
    "        if len(table)==0:\n",
    "            print('ERROR')\n",
    "        table['MAIN_ID']=table['MAIN_ID'].astype(str)\n",
    "        #print(table['MAIN_ID'][0])\n",
    "        arr.append(table['MAIN_ID'][0])\n",
    "    except:\n",
    "        ''' for testing purposes\n",
    "        print('?', end = ' ') \n",
    "        print(name)        \n",
    "        '''\n",
    "        arr.append('CHECK' + name.strip())\n",
    "#print(arr)\n",
    "with open('mainID.txt', 'w') as f:\n",
    "    for item in arr:\n",
    "        f.write(\"%s\\n\" % item)\n",
    "print('done')"
   ]
  }
 ],
 "metadata": {
  "kernelspec": {
   "display_name": "Python 3",
   "language": "python",
   "name": "python3"
  },
  "language_info": {
   "codemirror_mode": {
    "name": "ipython",
    "version": 3
   },
   "file_extension": ".py",
   "mimetype": "text/x-python",
   "name": "python",
   "nbconvert_exporter": "python",
   "pygments_lexer": "ipython3",
   "version": "3.7.6"
  }
 },
 "nbformat": 4,
 "nbformat_minor": 4
}
