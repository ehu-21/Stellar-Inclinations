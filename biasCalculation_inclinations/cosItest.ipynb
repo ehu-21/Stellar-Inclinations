{
 "cells": [
  {
   "cell_type": "code",
   "execution_count": 9,
   "metadata": {},
   "outputs": [
    {
     "data": {
      "image/png": "[encoded data removed]",
      "text/plain": [
       "<Figure size 432x288 with 1 Axes>"
      ]
     },
     "metadata": {},
     "output_type": "display_data"
    }
   ],
   "source": [
    "import matplotlib.pyplot as plt\n",
    "import numpy as np\n",
    "from numpy import genfromtxt\n",
    "%matplotlib inline\n",
    "plt.style.use('seaborn-whitegrid')\n",
    "from sklearn.linear_model import LinearRegression\n",
    "from mlxtend.plotting import plot_linear_regression\n",
    "import csv\n",
    "import pandas\n",
    "import statistics\n",
    "import random\n",
    "import math\n",
    "\n",
    "#generate fake truths\n",
    "# generate observed values\n",
    "data = genfromtxt('starsData.csv',delimiter=',',dtype='float')\n",
    "#cols: vsini, e_vsini, prot, e_prot, radius, e_r\n",
    "#e_prot of 0 means no error given\n",
    "rows,cols=data.shape\n",
    "\n",
    "RSun = 695700\n",
    "\n",
    "e_VSINIobs=[]\n",
    "VSINIobs = []\n",
    "Pobs = []\n",
    "e_Pobs = []\n",
    "Robs = []\n",
    "e_Robs = []\n",
    "IsummaryMedian = []\n",
    "IsummaryMean = []\n",
    "cosIList = []\n",
    "\n",
    "for j in range(0,1000):\n",
    "    #Rtrue = np.random.normal(random.choice(data[:,4]),random.choice(data[:,5]))\n",
    "    #Ptrue = np.random.normal(random.choice(data[:,2]),random.choice(data[:,3]))\n",
    "    index1 = random.randint(0,224)\n",
    "    Rtrue = data[index1,4]\n",
    "    e_Rtrue = data[index1,5]\n",
    "    \n",
    "    index2 = random.randint(0,224)\n",
    "    Ptrue = data[index2,2]\n",
    "    e_Ptrue = data[index2,3]\n",
    "    Vtrue = 2*np.pi*Rtrue*RSun/(Ptrue*24*3600)\n",
    "    \n",
    "    #isotropic \n",
    "    cosI = random.uniform(0,1)\n",
    "    #Itrue = np.arccos(cosI)\n",
    "    cosIList.append(cosI)\n",
    "    #uniform i\n",
    "    \n",
    "    \n",
    "plt.hist(cosIList, bins = 15)\n",
    "plt.title('uniform cosI')\n",
    "plt.show() \n",
    "\n",
    "#plt.hist(IsummaryMean, bins = 15)\n",
    "#plt.show()\n"
   ]
  },
  {
   "cell_type": "code",
   "execution_count": null,
   "metadata": {},
   "outputs": [],
   "source": []
  }
 ],
 "metadata": {
  "kernelspec": {
   "display_name": "Python 3",
   "language": "python",
   "name": "python3"
  },
  "language_info": {
   "codemirror_mode": {
    "name": "ipython",
    "version": 3
   },
   "file_extension": ".py",
   "mimetype": "text/x-python",
   "name": "python",
   "nbconvert_exporter": "python",
   "pygments_lexer": "ipython3",
   "version": "3.7.6"
  }
 },
 "nbformat": 4,
 "nbformat_minor": 4
}
