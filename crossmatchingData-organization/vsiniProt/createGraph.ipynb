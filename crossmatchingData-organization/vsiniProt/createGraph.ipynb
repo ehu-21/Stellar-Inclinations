{
 "cells": [
  {
   "cell_type": "code",
   "execution_count": 13,
   "metadata": {},
   "outputs": [
    {
     "data": {
      "image/png": "[encoded data removed]",
      "text/plain": [
       "<Figure size 432x288 with 1 Axes>"
      ]
     },
     "metadata": {},
     "output_type": "display_data"
    }
   ],
   "source": [
    "'''\n",
    "graphs vsini v. prot\n",
    "- can graph other parameters as well\n",
    "'''\n",
    "import matplotlib.pyplot as plt\n",
    "import numpy as np\n",
    "from numpy import genfromtxt\n",
    "%matplotlib inline\n",
    "plt.style.use('seaborn-whitegrid')\n",
    "from sklearn.linear_model import LinearRegression\n",
    "from mlxtend.plotting import plot_linear_regression\n",
    "\n",
    "data = genfromtxt('toBeGraphed(ABC).csv', delimiter=',',dtype = 'str')\n",
    "\n",
    "vsini = data[:,1]\n",
    "e_vsini = data[:,2]\n",
    "prot = data[:,3]\n",
    "e_prot = data[:,4]\n",
    "#x=np.asfarray(x,float)\n",
    "'''\n",
    "v = vsini.astype(np.float)\n",
    "e_v = e_vsini.astype(np.float)\n",
    "p = prot.astype(np.float)\n",
    "#error of 0 = no error data\n",
    "e_p = e_prot.astype(np.float)\n",
    "'''\n",
    "v = np.asfarray(vsini,float)\n",
    "e_v = np.asfarray(e_vsini,float)\n",
    "p = np.asfarray(prot,float)\n",
    "#e_p=np.asfarray(e_prot,float)\n",
    "#print(v)\n",
    "'''\n",
    "row0: header\n",
    "col0: name\n",
    "col1: vsini\n",
    "col2: e_vsini\n",
    "col3: prot\n",
    "col4: e_prot\n",
    "'''\n",
    "\n",
    "#linear_regressor = LinearRegression()  # create object for the class\n",
    "#linear_regressor.fit(p, v)  # perform linear regression\n",
    "#Y_pred = linear_regressor.predict(p)  # make predictions\n",
    "\n",
    "#intercept, slope, corr_coeff = plot_linear_regression(p, v)\n",
    "#shorter rotation = higher vsini\n",
    "plt.scatter(p, v, s=np.pi)\n",
    "#plt.plot(p, Y_pred, color='red')\n",
    "#plt.errorbar(p, v, yerr=e_v, fmt='.k')\n",
    "plt.xlabel(\"Prot\")\n",
    "plt.ylabel(\"vsini\")\n",
    "plt.show()\n",
    "\n"
   ]
  }
 ],
 "metadata": {
  "kernelspec": {
   "display_name": "Python 3",
   "language": "python",
   "name": "python3"
  },
  "language_info": {
   "codemirror_mode": {
    "name": "ipython",
    "version": 3
   },
   "file_extension": ".py",
   "mimetype": "text/x-python",
   "name": "python",
   "nbconvert_exporter": "python",
   "pygments_lexer": "ipython3",
   "version": "3.7.6"
  }
 },
 "nbformat": 4,
 "nbformat_minor": 4
}
