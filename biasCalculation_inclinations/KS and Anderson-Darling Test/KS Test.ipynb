{
 "cells": [
  {
   "cell_type": "code",
   "execution_count": 3,
   "metadata": {},
   "outputs": [
    {
     "name": "stdout",
     "output_type": "stream",
     "text": [
      "5.725037161098787e-20\n"
     ]
    }
   ],
   "source": [
    "from scipy.stats import ks_2samp\n",
    "import numpy as np\n",
    "import matplotlib.pyplot as plt\n",
    "from scipy import stats\n",
    "i_all = fileToList('i_all.txt')\n",
    "i_flares = fileToList('i_flares.txt')\n",
    "i_uniform = fileToList('i_uniform.txt')\n",
    "    \n",
    "#plt.hist(i_flares, 20)\n",
    "#plt.show()\n",
    "#plt.hist(i_all,20)\n",
    "#plt.show()\n",
    "#np.random.seed(12345678)\n",
    "#x = np.random.normal(0, 1, 1000)\n",
    "#y = np.random.normal(0, 1, 1000)\n",
    "#ks_2samp(x,y)\n",
    "\n",
    "#PLOT all and flares\n",
    "result = ks_2samp(i_all,i_flares)\n",
    "print(result.pvalue)"
   ]
  },
  {
   "cell_type": "code",
   "execution_count": 38,
   "metadata": {},
   "outputs": [
    {
     "data": {
      "text/plain": [
       "Ks_2sampResult(statistic=0.3264444444444444, pvalue=1.9945310383297147e-17)"
      ]
     },
     "execution_count": 38,
     "metadata": {},
     "output_type": "execute_result"
    }
   ],
   "source": [
    "ks_2samp(i_all,i_uniform)"
   ]
  },
  {
   "cell_type": "code",
   "execution_count": 4,
   "metadata": {},
   "outputs": [],
   "source": [
    "def fileToList(name):\n",
    "    my_file = open(name, \"r\")\n",
    "    content = my_file.read()\n",
    "    content_list = content.strip().split(\"\\n\")\n",
    "    my_file.close()\n",
    "    \n",
    "    for i in range(len(content_list)):\n",
    "        content_list[i]=float(content_list[i])\n",
    "    return content_list"
   ]
  },
  {
   "cell_type": "code",
   "execution_count": null,
   "metadata": {},
   "outputs": [],
   "source": []
  }
 ],
 "metadata": {
  "kernelspec": {
   "display_name": "Python 3",
   "language": "python",
   "name": "python3"
  },
  "language_info": {
   "codemirror_mode": {
    "name": "ipython",
    "version": 3
   },
   "file_extension": ".py",
   "mimetype": "text/x-python",
   "name": "python",
   "nbconvert_exporter": "python",
   "pygments_lexer": "ipython3",
   "version": "3.7.6"
  }
 },
 "nbformat": 4,
 "nbformat_minor": 4
}
