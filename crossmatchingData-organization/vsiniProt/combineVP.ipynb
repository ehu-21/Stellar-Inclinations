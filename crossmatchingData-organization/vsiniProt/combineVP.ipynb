{
 "cells": [
  {
   "cell_type": "code",
   "execution_count": 5,
   "metadata": {},
   "outputs": [
    {
     "name": "stdout",
     "output_type": "stream",
     "text": [
      "13661\n"
     ]
    }
   ],
   "source": [
    "'''\n",
    "cross matches vsini and prot catalogs\n",
    "- ran this with various subsets of data when I had a new catalog, so csvs in the folder may be confusing\n",
    "'''\n",
    "\n",
    "#save catalogs as csv file and upload to folder\n",
    "import numpy as np\n",
    "import pandas as pd\n",
    "from numpy import genfromtxt\n",
    "\n",
    "np.set_printoptions(suppress=True, formatter={'float_kind':'{:0.0f}'.format})\n",
    "\n",
    "vsini = genfromtxt('vsini3.csv', delimiter=',',dtype = 'str')\n",
    "prot = genfromtxt('protB.csv', delimiter=',',dtype = 'str')\n",
    "\n",
    "vRows, vCols = vsini.shape\n",
    "'''\n",
    "row0: header\n",
    "col0: name\n",
    "col1: vsini\n",
    "col2: e_vsini\n",
    "#add on\n",
    "col3: prot\n",
    "col4: e_prot\n",
    "col5: e_prot(L)\n",
    "col6: e_prot(U)\n",
    "'''\n",
    "pRows, pCols = prot.shape\n",
    "print(pRows)\n",
    "'''\n",
    "row0: header\n",
    "col0: name\n",
    "col1: prot\n",
    "col2: e_prot\n",
    "col3: e_prot(L)\n",
    "col4: e_prot(U)\n",
    "'''\n",
    "\n",
    "for i in range(1, vRows):\n",
    "    for j in range(1, pRows):\n",
    "        if vsini[i,0]==prot[j,0]:\n",
    "            vsini[i,3]=prot[j,1]\n",
    "            if not prot[j,2]=='':\n",
    "                vsini[i,4]=prot[j,2]\n",
    "            if not prot[j,3]=='':\n",
    "                vsini[i,5]=prot[j,3]            \n",
    "            if not prot[j,4]=='':\n",
    "                vsini[i,6]=prot[j,4]            \n",
    "## convert array into a dataframe\n",
    "df = pd.DataFrame (vsini)\n",
    "\n",
    "## save to xlsx file\n",
    "filepath = 'resultB.xlsx'\n",
    "df.to_excel(filepath, index=False)\n",
    "\n",
    "#with numpy\n",
    "#numpy.savetxt(\"results.csv\", vsini, delimiter=\",\")"
   ]
  }
 ],
 "metadata": {
  "kernelspec": {
   "display_name": "Python 3",
   "language": "python",
   "name": "python3"
  },
  "language_info": {
   "codemirror_mode": {
    "name": "ipython",
    "version": 3
   },
   "file_extension": ".py",
   "mimetype": "text/x-python",
   "name": "python",
   "nbconvert_exporter": "python",
   "pygments_lexer": "ipython3",
   "version": "3.7.6"
  }
 },
 "nbformat": 4,
 "nbformat_minor": 4
}
