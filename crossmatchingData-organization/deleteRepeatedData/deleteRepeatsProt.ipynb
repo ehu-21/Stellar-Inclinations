{
 "cells": [
  {
   "cell_type": "code",
   "execution_count": 9,
   "metadata": {},
   "outputs": [
    {
     "name": "stdout",
     "output_type": "stream",
     "text": [
      "[['0' '1']\n",
      " ['-1' '-1']\n",
      " ['-1' '-1']\n",
      " ...\n",
      " ['-1' '7.89']\n",
      " ['[DCO2008] T-Lyr1-07257' '7.881']\n",
      " ['* z Her' '1.06304']]\n"
     ]
    }
   ],
   "source": [
    "'''\n",
    "deletes repeated stars/values in prot (or any other) catalog\n",
    "'''\n",
    "\n",
    "#assumptions: repeated stars in input data are consecutive and have been ordered already\n",
    "\n",
    "import numpy as np\n",
    "import pandas as pd\n",
    "from numpy import genfromtxt\n",
    "\n",
    "np.set_printoptions(suppress=True, formatter={'float_kind':'{:0.0f}'.format})\n",
    "\n",
    "data = genfromtxt('newtest.csv', delimiter=',',dtype='str')\n",
    "num_rows, num_cols = data.shape\n",
    "#input = open('test.csv', 'r')\n",
    "#print (num_rows, num_cols)\n",
    "for i in range(0,num_rows-1):\n",
    "    for j in range(i+1,num_rows-1):\n",
    "        if data[i,0]==data[j,0]:\n",
    "            data[i,0]='-1'\n",
    "            \n",
    "print(data)\n",
    " \n",
    "## convert array into a dataframe\n",
    "df = pd.DataFrame (data)\n",
    "\n",
    "## save to xlsx file\n",
    "filepath = 'pRot1.xlsx'\n",
    "df.to_excel(filepath, index=False)"
   ]
  }
 ],
 "metadata": {
  "kernelspec": {
   "display_name": "Python 3",
   "language": "python",
   "name": "python3"
  },
  "language_info": {
   "codemirror_mode": {
    "name": "ipython",
    "version": 3
   },
   "file_extension": ".py",
   "mimetype": "text/x-python",
   "name": "python",
   "nbconvert_exporter": "python",
   "pygments_lexer": "ipython3",
   "version": "3.7.6"
  }
 },
 "nbformat": 4,
 "nbformat_minor": 4
}
